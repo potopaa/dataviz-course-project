{
  "nbformat": 4,
  "nbformat_minor": 0,
  "metadata": {
    "colab": {
      "provenance": []
    },
    "kernelspec": {
      "name": "python3",
      "display_name": "Python 3"
    },
    "language_info": {
      "name": "python"
    }
  },
  "cells": [
    {
      "cell_type": "code",
      "execution_count": null,
      "metadata": {
        "id": "pXd3G5iYT0-b"
      },
      "outputs": [],
      "source": [
        "import pandas as pd\n",
        "\n",
        "df = pd.read_excel(\"/content/sample_data/vstup_2024.xlsx\")\n",
        "\n",
        "print(\"Колонки в файлі:\", df.columns.tolist())\n",
        "\n",
        "counts = df.groupby(['Спеціальність', 'Стать']).size().unstack(fill_value=0)\n",
        "\n",
        "mean_score = df.groupby(['Спеціальність', 'Стать'])['Конкурсний бал'].mean().unstack(fill_value=0)\n",
        "\n",
        "result = pd.DataFrame({\n",
        "    'Спеціальність': counts.index,\n",
        "    'Ч': counts.get('Ч', pd.Series(dtype=int)),\n",
        "    'Ж': counts.get('Ж', pd.Series(dtype=int)),\n",
        "    'score_m': mean_score.get('Ч', pd.Series(dtype=float)).round(2),\n",
        "    'score_f': mean_score.get('Ж', pd.Series(dtype=float)).round(2)\n",
        "}).fillna(0)\n",
        "\n",
        "result.to_csv(\"vstup_2024.csv\", index=False, encoding='utf-8-sig')\n",
        "\n",
        "print(\"vstup_2024.csv\")\n",
        "print(result.head())"
      ]
    }
  ]
}